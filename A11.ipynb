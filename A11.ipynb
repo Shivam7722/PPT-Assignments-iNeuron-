{
 "cells": [
  {
   "attachments": {},
   "cell_type": "markdown",
   "metadata": {},
   "source": [
    "<aside>\n",
    "💡 Question 1\n",
    "\n",
    "Given a non-negative integer `x`, return *the square root of* `x` *rounded down to the nearest integer*. The returned integer should be **non-negative** as well.\n",
    "\n",
    "You **must not use** any built-in exponent function or operator.\n",
    "\n",
    "- For example, do not use `pow(x, 0.5)` in c++ or `x ** 0.5` in python.\n",
    "</aside>"
   ]
  },
  {
   "cell_type": "code",
   "execution_count": 16,
   "metadata": {},
   "outputs": [],
   "source": [
    "def sqrt(n):\n",
    "    '''\n",
    "    function for returning square root of \"n\"\n",
    "    n = any number\n",
    "    '''\n",
    "    # checking number is greater than 2 or not if Truw then return \"n\"\n",
    "    if n < 2:\n",
    "        return n\n",
    "    \n",
    "    #implementing binary sewarch approach\n",
    "    start = 0\n",
    "    end = n/2 #for reducing the search time, because square root of any number is always equal to or less than the half of the number.\n",
    "\n",
    "    while start <= end:\n",
    "        mid = int((start+end)/2)\n",
    "        square = mid*mid\n",
    "        \n",
    "        if square == n:\n",
    "            return mid\n",
    "        elif square > n:\n",
    "            end = mid-1\n",
    "        else:\n",
    "            start = mid+1\n",
    "    return end"
   ]
  },
  {
   "cell_type": "code",
   "execution_count": 18,
   "metadata": {},
   "outputs": [
    {
     "name": "stdout",
     "output_type": "stream",
     "text": [
      "Rounded Square root of 4: 2\n",
      "Rounded Square root of 8: 2\n",
      "Rounded Square root of 12: 3\n",
      "Rounded Square root of 16: 4\n",
      "Rounded Square root of 19: 4\n",
      "Rounded Square root of 25: 5\n",
      "Rounded Square root of 28: 5\n",
      "Rounded Square root of 32: 5\n",
      "Rounded Square root of 36: 6\n",
      "Rounded Square root of 40: 6\n",
      "Rounded Square root of 49: 7\n",
      "Rounded Square root of 50: 7\n"
     ]
    }
   ],
   "source": [
    "for i in [4,8,12,16,19,25,28,32,36,40,49,50]:\n",
    "    print(f'Rounded Square root of {i}: {sqrt(i)}')"
   ]
  },
  {
   "attachments": {},
   "cell_type": "markdown",
   "metadata": {},
   "source": [
    "<aside>\n",
    "💡 Question 2\n",
    "\n",
    "A peak element is an element that is strictly greater than its neighbors.\n",
    "\n",
    "Given a **0-indexed** integer array `nums`, find a peak element, and return its index. If the array contains multiple peaks, return the index to **any of the peaks**.\n",
    "\n",
    "You may imagine that `nums[-1] = nums[n] = -∞`. In other words, an element is always considered to be strictly greater than a neighbor that is outside the array.\n",
    "\n",
    "You must write an algorithm that runs in `O(log n)` time.\n",
    "\n",
    "</aside>"
   ]
  },
  {
   "cell_type": "code",
   "execution_count": 35,
   "metadata": {},
   "outputs": [],
   "source": [
    "def peak(list, length):\n",
    "    lower_bound = 0\n",
    "    upper_bound = length-1\n",
    "\n",
    "    while(lower_bound <= upper_bound):\n",
    "        #finding index of mid value by binary right shift operator (x>>y means x is divided by 2^y)\n",
    "        mid = (lower_bound + upper_bound) >> 1\n",
    "\n",
    "        #checking mid value is peak or not\n",
    "        if ((mid==0 or list[mid-1] <= list[mid]) and (mid == length-1 or list[mid+1] <= list[mid])):\n",
    "            # return mid as a final answer\n",
    "            return mid\n",
    "        \n",
    "        elif (mid>0 and list[mid+1]>list[mid]):\n",
    "            lower_bound = mid+1\n",
    "\n",
    "        else:\n",
    "            upper_bound = mid-1\n"
   ]
  },
  {
   "cell_type": "code",
   "execution_count": 37,
   "metadata": {},
   "outputs": [
    {
     "data": {
      "text/plain": [
       "5"
      ]
     },
     "execution_count": 37,
     "metadata": {},
     "output_type": "execute_result"
    }
   ],
   "source": [
    "list = [1,2,1,3,5,6,4]\n",
    "length = len(list)\n",
    "peak(list, length)"
   ]
  },
  {
   "attachments": {},
   "cell_type": "markdown",
   "metadata": {},
   "source": [
    "<aside>\n",
    "💡 Question 3\n",
    "\n",
    "Given an array `nums` containing `n` distinct numbers in the range `[0, n]`, return *the only number in the range that is missing from the array.*\n",
    "\n",
    "</aside>\n",
    "\n",
    "Example 1: <br>\n",
    "Input: nums = [3,0,1] <br>\n",
    "\n",
    "Output: 2 <br>\n",
    "\n",
    "Explanation: n = 3 since there are 3 numbers, so all numbers are in the range [0,3]. 2 is the missing number in the range since it does not appear in nums. <br>\n",
    "\n",
    "\n"
   ]
  },
  {
   "cell_type": "code",
   "execution_count": 29,
   "metadata": {},
   "outputs": [],
   "source": [
    "def missing(list):\n",
    "    \n",
    "    #sorting list in ascending order\n",
    "    #creating an empty list for storing values in ascending order\n",
    "    sorted_list = []\n",
    "    while list:\n",
    "        min = list[0]  \n",
    "        for i in list: \n",
    "            if i < min:\n",
    "                min = i\n",
    "        sorted_list.append(min)\n",
    "        list.remove(min)\n",
    "    \n",
    "    #creating a range list based on lowest and highest value of sorted_list\n",
    "    range_list = []\n",
    "    for i in range(sorted_list[0],sorted_list[-1]+1):\n",
    "        range_list.append(i)\n",
    "\n",
    "    #print the missing number by comparing \"range_list\" with the \"sorted_list\"\n",
    "    for i in range_list:\n",
    "        if i not in sorted_list:\n",
    "            print(i,end=' ')\n",
    "\n"
   ]
  },
  {
   "cell_type": "code",
   "execution_count": 31,
   "metadata": {},
   "outputs": [
    {
     "name": "stdout",
     "output_type": "stream",
     "text": [
      "8 "
     ]
    }
   ],
   "source": [
    "missing([9,6,4,2,3,5,7,0,1])"
   ]
  },
  {
   "attachments": {},
   "cell_type": "markdown",
   "metadata": {},
   "source": [
    "<aside>\n",
    "💡 Question 4\n",
    "\n",
    "Given an array of integers `nums` containing `n + 1` integers where each integer is in the range `[1, n]` inclusive.\n",
    "\n",
    "There is only **one repeated number** in `nums`, return *this repeated number*.\n",
    "\n",
    "You must solve the problem **without** modifying the array `nums` and uses only constant extra space.\n",
    "\n",
    "**Example 1:**\n",
    "\n",
    "Input: nums = [1,3,4,2,2] <br>\n",
    "Output: 2\n",
    "\n",
    "</aside>"
   ]
  },
  {
   "cell_type": "code",
   "execution_count": 39,
   "metadata": {},
   "outputs": [],
   "source": [
    "def duplicate(nums):\n",
    "    start = 1\n",
    "    end = len(nums)-1\n",
    "\n",
    "    while start+1 <= end:\n",
    "        mid = (start+end)//2\n",
    "        count = 0\n",
    "        for i in nums:\n",
    "                if i <= mid:\n",
    "                    count += 1        \n",
    "        if count <= mid:\n",
    "            start = mid + 1\n",
    "        else:\n",
    "            end = mid\n",
    "    return end\n"
   ]
  },
  {
   "cell_type": "code",
   "execution_count": 46,
   "metadata": {},
   "outputs": [
    {
     "data": {
      "text/plain": [
       "3"
      ]
     },
     "execution_count": 46,
     "metadata": {},
     "output_type": "execute_result"
    }
   ],
   "source": [
    "duplicate([2,4,3,1,3])"
   ]
  },
  {
   "attachments": {},
   "cell_type": "markdown",
   "metadata": {},
   "source": [
    "<aside>\n",
    "💡 **Question 5**\n",
    "\n",
    "Given two integer arrays `nums1` and `nums2`, return *an array of their intersection*. Each element in the result must be **unique** and you may return the result in **any order**.\n",
    "\n",
    "**Example 1:** <br>\n",
    "Input: nums1 = [1,2,2,1], nums2 = [2,2] <br>\n",
    "Output: [2]\n",
    "\n",
    "\n",
    "</aside>"
   ]
  },
  {
   "cell_type": "code",
   "execution_count": 56,
   "metadata": {},
   "outputs": [],
   "source": [
    "def intersection(list1, list2):\n",
    "    intersec = []\n",
    "    for i in list1:\n",
    "        if i in list2:\n",
    "            intersec.append(i)\n",
    "\n",
    "    unique_values = []\n",
    "    for i in intersec:\n",
    "        if i not in unique_values:\n",
    "            unique_values.append(i)\n",
    "    return unique_values"
   ]
  },
  {
   "cell_type": "code",
   "execution_count": 57,
   "metadata": {},
   "outputs": [
    {
     "data": {
      "text/plain": [
       "[2]"
      ]
     },
     "execution_count": 57,
     "metadata": {},
     "output_type": "execute_result"
    }
   ],
   "source": [
    "list1 = [1,2,2,1]\n",
    "list2 = [2,2]\n",
    "intersection(list1,list2)"
   ]
  },
  {
   "attachments": {},
   "cell_type": "markdown",
   "metadata": {},
   "source": [
    "<aside>\n",
    "💡 **Question 8**\n",
    "\n",
    "Given two integer arrays `nums1` and `nums2`, return *an array of their intersection*. Each element in the result must appear as many times as it shows in both arrays and you may return the result in **any order**.\n",
    "\n",
    "Example 1:\n",
    "\n",
    "Input: nums1 = [1,2,2,1], nums2 = [2,2] <br>\n",
    "Output: [2,2]\n",
    "\n",
    "\n",
    "</aside>"
   ]
  },
  {
   "cell_type": "code",
   "execution_count": 52,
   "metadata": {},
   "outputs": [],
   "source": [
    "def intersection(list1, list2):\n",
    "    intersec = []\n",
    "    for i in list1:\n",
    "        if i in list2:\n",
    "            intersec.append(i)\n",
    "    return intersec"
   ]
  },
  {
   "cell_type": "code",
   "execution_count": 55,
   "metadata": {},
   "outputs": [
    {
     "data": {
      "text/plain": [
       "[2, 2]"
      ]
     },
     "execution_count": 55,
     "metadata": {},
     "output_type": "execute_result"
    }
   ],
   "source": [
    "list1 = [1,2,2,1]\n",
    "list2 = [2,2]\n",
    "intersection(list1,list2)"
   ]
  },
  {
   "attachments": {},
   "cell_type": "markdown",
   "metadata": {},
   "source": [
    "**Thank You**"
   ]
  }
 ],
 "metadata": {
  "kernelspec": {
   "display_name": "myenv",
   "language": "python",
   "name": "python3"
  },
  "language_info": {
   "codemirror_mode": {
    "name": "ipython",
    "version": 3
   },
   "file_extension": ".py",
   "mimetype": "text/x-python",
   "name": "python",
   "nbconvert_exporter": "python",
   "pygments_lexer": "ipython3",
   "version": "3.9.13"
  },
  "orig_nbformat": 4
 },
 "nbformat": 4,
 "nbformat_minor": 2
}
